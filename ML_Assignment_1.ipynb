{
 "cells": [
  {
   "cell_type": "code",
   "execution_count": 55,
   "id": "ac9808eb-fc04-4944-a8eb-d3f7a1af8241",
   "metadata": {},
   "outputs": [],
   "source": [
    "# Perform the following operations using R/Python on suitable data sets:\n",
    "# a) read data from different formats (like csv, xls)\n",
    "# b) Find Shape of Data\n",
    "# c) Find Missing Values\n",
    "# d) Find data type of each column\n",
    "# e) Finding out Zero's\n",
    "# f) Indexing and selecting data, sort data,\n",
    "# g) Describe attributes of data, checking data types of each column,\n",
    "# h) counting unique values of data, format of each column, converting variable\n",
    "# data type (e.g. from long to short, vice versa)"
   ]
  },
  {
   "cell_type": "code",
   "execution_count": null,
   "id": "a1f73e1e-322f-4ea1-9107-575d6b59e120",
   "metadata": {},
   "outputs": [],
   "source": []
  },
  {
   "cell_type": "code",
   "execution_count": 56,
   "id": "af6b7e56-ac1b-41f3-a525-9540df193699",
   "metadata": {},
   "outputs": [],
   "source": [
    "import numpy as np\n",
    "import pandas as pd"
   ]
  },
  {
   "cell_type": "code",
   "execution_count": 57,
   "id": "7c4d95fd-9b58-433f-9f1c-b255e6494e91",
   "metadata": {},
   "outputs": [],
   "source": [
    "def d_l():\n",
    "    print(\"===\"*10)"
   ]
  },
  {
   "cell_type": "code",
   "execution_count": 58,
   "id": "26ec43e3-16f3-4cd0-a421-32b344317b1a",
   "metadata": {},
   "outputs": [
    {
     "name": "stdout",
     "output_type": "stream",
     "text": [
      "==============================\n",
      "Head of the df: \n",
      "   Serial No.  GRE Score  TOEFL Score  University Rating  SOP  LOR   CGPA  \\\n",
      "0           1        337          118                  4  4.5   4.5  9.65   \n",
      "1           2        324          107                  4  4.0   4.5  8.87   \n",
      "2           3        316          104                  3  3.0   3.5  8.00   \n",
      "3           4        322          110                  3  3.5   2.5  8.67   \n",
      "4           5        314          103                  2  2.0   3.0  8.21   \n",
      "\n",
      "   Research  Chance of Admit   \n",
      "0         1              0.92  \n",
      "1         1              0.76  \n",
      "2         1              0.72  \n",
      "3         1              0.80  \n",
      "4         0              0.65  \n",
      "==============================\n"
     ]
    }
   ],
   "source": [
    "dataset_path = \"C:\\\\Users\\\\annan\\\\Desktop\\\\ML_Jupyter\\\\datasets\\\\admission.csv\"\n",
    "df = pd.read_csv(dataset_path)\n",
    "d_l()\n",
    "print(\"Head of the df: \")\n",
    "print(df.head())\n",
    "d_l()"
   ]
  },
  {
   "cell_type": "code",
   "execution_count": 59,
   "id": "08ae9b64-53ca-4a09-89b9-c5b54f61af56",
   "metadata": {},
   "outputs": [
    {
     "name": "stdout",
     "output_type": "stream",
     "text": [
      "==============================\n",
      "Shape of Dataframe\n",
      "(500, 9)\n",
      "==============================\n"
     ]
    }
   ],
   "source": [
    "d_l()\n",
    "print(\"Shape of Dataframe\")\n",
    "print(df.shape)\n",
    "d_l()"
   ]
  },
  {
   "cell_type": "code",
   "execution_count": 60,
   "id": "059cc93e-9b5e-4923-a5b6-5cb17e96a877",
   "metadata": {},
   "outputs": [
    {
     "name": "stdout",
     "output_type": "stream",
     "text": [
      "==============================\n",
      "Missing values of the dataset:\n",
      "     Serial No.  GRE Score  TOEFL Score  University Rating    SOP   LOR   \\\n",
      "0         False      False        False              False  False  False   \n",
      "1         False      False        False              False  False  False   \n",
      "2         False      False        False              False  False  False   \n",
      "3         False      False        False              False  False  False   \n",
      "4         False      False        False              False  False  False   \n",
      "..          ...        ...          ...                ...    ...    ...   \n",
      "495       False      False        False              False  False  False   \n",
      "496       False      False        False              False  False  False   \n",
      "497       False      False        False              False  False  False   \n",
      "498       False      False        False              False  False  False   \n",
      "499       False      False        False              False  False  False   \n",
      "\n",
      "      CGPA  Research  Chance of Admit   \n",
      "0    False     False             False  \n",
      "1    False     False             False  \n",
      "2    False     False             False  \n",
      "3    False     False             False  \n",
      "4    False     False             False  \n",
      "..     ...       ...               ...  \n",
      "495  False     False             False  \n",
      "496  False     False             False  \n",
      "497  False     False             False  \n",
      "498  False     False             False  \n",
      "499  False     False             False  \n",
      "\n",
      "[500 rows x 9 columns]\n",
      "==============================\n",
      "Sum of Missing values of the dataset:\n",
      "Serial No.           0\n",
      "GRE Score            0\n",
      "TOEFL Score          0\n",
      "University Rating    0\n",
      "SOP                  0\n",
      "LOR                  0\n",
      "CGPA                 0\n",
      "Research             0\n",
      "Chance of Admit      0\n",
      "dtype: int64\n",
      "==============================\n"
     ]
    }
   ],
   "source": [
    "d_l()\n",
    "print(\"Missing values of the dataset:\")\n",
    "print(df.isnull())\n",
    "d_l()\n",
    "print(\"Sum of Missing values of the dataset:\")\n",
    "print(df.isnull().sum())\n",
    "d_l()"
   ]
  },
  {
   "cell_type": "code",
   "execution_count": 61,
   "id": "9ba4565c-32f7-43e3-99cc-54f6023c59e7",
   "metadata": {},
   "outputs": [
    {
     "name": "stdout",
     "output_type": "stream",
     "text": [
      "==============================\n",
      "Datatype of Each Column: \n",
      "<class 'pandas.core.frame.DataFrame'>\n",
      "RangeIndex: 500 entries, 0 to 499\n",
      "Data columns (total 9 columns):\n",
      " #   Column             Non-Null Count  Dtype  \n",
      "---  ------             --------------  -----  \n",
      " 0   Serial No.         500 non-null    int64  \n",
      " 1   GRE Score          500 non-null    int64  \n",
      " 2   TOEFL Score        500 non-null    int64  \n",
      " 3   University Rating  500 non-null    int64  \n",
      " 4   SOP                500 non-null    float64\n",
      " 5   LOR                500 non-null    float64\n",
      " 6   CGPA               500 non-null    float64\n",
      " 7   Research           500 non-null    int64  \n",
      " 8   Chance of Admit    500 non-null    float64\n",
      "dtypes: float64(4), int64(5)\n",
      "memory usage: 35.3 KB\n",
      "None\n",
      "==============================\n"
     ]
    }
   ],
   "source": [
    "d_l()\n",
    "print(\"Datatype of Each Column: \")\n",
    "print(df.info())\n",
    "d_l()"
   ]
  },
  {
   "cell_type": "code",
   "execution_count": 62,
   "id": "444d964c-9d3c-4161-9525-62d3e06226f7",
   "metadata": {},
   "outputs": [
    {
     "name": "stdout",
     "output_type": "stream",
     "text": [
      "==============================\n",
      "Zeros in Each Column: \n",
      "Serial No.             0\n",
      "GRE Score              0\n",
      "TOEFL Score            0\n",
      "University Rating      0\n",
      "SOP                    0\n",
      "LOR                    0\n",
      "CGPA                   0\n",
      "Research             220\n",
      "Chance of Admit        0\n",
      "dtype: int64\n",
      "==============================\n"
     ]
    }
   ],
   "source": [
    "d_l()\n",
    "print(\"Zeros in Each Column: \")\n",
    "print((df==0).sum())\n",
    "d_l()"
   ]
  },
  {
   "cell_type": "code",
   "execution_count": 63,
   "id": "2b62f9a1-9bb5-4ccd-8aea-911bcd4a8199",
   "metadata": {},
   "outputs": [
    {
     "name": "stdout",
     "output_type": "stream",
     "text": [
      "==============================\n",
      "Sorting df on basis of column: \n",
      "     Serial No.  GRE Score  TOEFL Score  University Rating  SOP  LOR   CGPA  \\\n",
      "377         378        290          100                  1  1.5   2.0  7.56   \n",
      "117         118        290          104                  4  2.0   2.5  7.46   \n",
      "168         169        293           97                  2  2.0   4.0  7.80   \n",
      "79           80        294           93                  1  1.5   2.0  7.36   \n",
      "272         273        294           95                  1  1.5   1.5  7.64   \n",
      "..          ...        ...          ...                ...  ...   ...   ...   \n",
      "81           82        340          120                  4  5.0   5.0  9.50   \n",
      "84           85        340          115                  5  4.5   4.5  9.45   \n",
      "143         144        340          120                  4  4.5   4.0  9.92   \n",
      "384         385        340          113                  4  5.0   5.0  9.74   \n",
      "429         430        340          115                  5  5.0   4.5  9.06   \n",
      "\n",
      "     Research  Chance of Admit   \n",
      "377         0              0.47  \n",
      "117         0              0.45  \n",
      "168         1              0.64  \n",
      "79          0              0.46  \n",
      "272         0              0.49  \n",
      "..        ...               ...  \n",
      "81          1              0.96  \n",
      "84          1              0.94  \n",
      "143         1              0.97  \n",
      "384         1              0.96  \n",
      "429         1              0.95  \n",
      "\n",
      "[500 rows x 9 columns]\n",
      "==============================\n"
     ]
    }
   ],
   "source": [
    "d_l()\n",
    "print(\"Sorting df on basis of column: \")\n",
    "print(df.sort_values(by='GRE Score', ascending=True))\n",
    "d_l()"
   ]
  },
  {
   "cell_type": "code",
   "execution_count": 64,
   "id": "a3751184-f35d-4157-a420-09833813adf2",
   "metadata": {},
   "outputs": [
    {
     "name": "stdout",
     "output_type": "stream",
     "text": [
      "==============================\n",
      "Description of Dataframe: \n",
      "       Serial No.   GRE Score  TOEFL Score  University Rating         SOP  \\\n",
      "count  500.000000  500.000000   500.000000         500.000000  500.000000   \n",
      "mean   250.500000  316.472000   107.192000           3.114000    3.374000   \n",
      "std    144.481833   11.295148     6.081868           1.143512    0.991004   \n",
      "min      1.000000  290.000000    92.000000           1.000000    1.000000   \n",
      "25%    125.750000  308.000000   103.000000           2.000000    2.500000   \n",
      "50%    250.500000  317.000000   107.000000           3.000000    3.500000   \n",
      "75%    375.250000  325.000000   112.000000           4.000000    4.000000   \n",
      "max    500.000000  340.000000   120.000000           5.000000    5.000000   \n",
      "\n",
      "            LOR         CGPA    Research  Chance of Admit   \n",
      "count  500.00000  500.000000  500.000000         500.00000  \n",
      "mean     3.48400    8.576440    0.560000           0.72174  \n",
      "std      0.92545    0.604813    0.496884           0.14114  \n",
      "min      1.00000    6.800000    0.000000           0.34000  \n",
      "25%      3.00000    8.127500    0.000000           0.63000  \n",
      "50%      3.50000    8.560000    1.000000           0.72000  \n",
      "75%      4.00000    9.040000    1.000000           0.82000  \n",
      "max      5.00000    9.920000    1.000000           0.97000  \n",
      "==============================\n"
     ]
    }
   ],
   "source": [
    "d_l()\n",
    "print(\"Description of Dataframe: \")\n",
    "print(df.describe())\n",
    "d_l()"
   ]
  },
  {
   "cell_type": "code",
   "execution_count": 65,
   "id": "aac83bce-deca-4ac4-9d80-9f03f1f33c0a",
   "metadata": {},
   "outputs": [
    {
     "name": "stdout",
     "output_type": "stream",
     "text": [
      "==============================\n",
      "Unique Counts:\n",
      " Serial No.           500\n",
      "GRE Score             49\n",
      "TOEFL Score           29\n",
      "University Rating      5\n",
      "SOP                    9\n",
      "LOR                    9\n",
      "CGPA                 184\n",
      "Research               2\n",
      "Chance of Admit       61\n",
      "dtype: int64\n",
      "==============================\n"
     ]
    }
   ],
   "source": [
    "d_l()\n",
    "unique_counts = df.nunique()\n",
    "print(\"Unique Counts:\\n\", unique_counts)\n",
    "d_l()"
   ]
  },
  {
   "cell_type": "code",
   "execution_count": 66,
   "id": "739afb49-939a-41b3-8498-f036bcdf620d",
   "metadata": {},
   "outputs": [
    {
     "name": "stdout",
     "output_type": "stream",
     "text": [
      "==============================\n",
      "Updated Data Types after Conversion:\n",
      " Serial No.             int64\n",
      "GRE Score              int64\n",
      "TOEFL Score            int64\n",
      "University Rating      int64\n",
      "SOP                  float64\n",
      "LOR                  float64\n",
      "CGPA                 float64\n",
      "Research               int64\n",
      "Chance of Admit      float64\n",
      "dtype: object\n",
      "==============================\n"
     ]
    }
   ],
   "source": [
    "d_l()\n",
    "df['SOP'] = df['SOP'].astype(float)\n",
    "print(\"Updated Data Types after Conversion:\\n\", df.dtypes)\n",
    "d_l()"
   ]
  }
 ],
 "metadata": {
  "kernelspec": {
   "display_name": "Python 3 (ipykernel)",
   "language": "python",
   "name": "python3"
  },
  "language_info": {
   "codemirror_mode": {
    "name": "ipython",
    "version": 3
   },
   "file_extension": ".py",
   "mimetype": "text/x-python",
   "name": "python",
   "nbconvert_exporter": "python",
   "pygments_lexer": "ipython3",
   "version": "3.12.7"
  }
 },
 "nbformat": 4,
 "nbformat_minor": 5
}
